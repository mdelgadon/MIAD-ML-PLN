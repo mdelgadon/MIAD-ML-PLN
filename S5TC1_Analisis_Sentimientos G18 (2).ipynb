{
 "cells": [
  {
   "cell_type": "markdown",
   "metadata": {},
   "source": [
    "![image info](https://raw.githubusercontent.com/albahnsen/MIAD_ML_and_NLP/main/images/banner_1.png)"
   ]
  },
  {
   "cell_type": "markdown",
   "metadata": {},
   "source": [
    "# Taller: Análisis de sentimientos y técnicas de NLP\n",
    "\n",
    "En este taller podrán poner en práctica sus conocimientos sobre las diferentes técnicas para el procesamiento de lenguaje natural. El taller está constituido por 5 puntos, en los cuales deberan seguir las intrucciones de cada numeral para su desarrollo."
   ]
  },
  {
   "cell_type": "markdown",
   "metadata": {},
   "source": [
    "## Datos predicción sentimientos de viajeros en Twitter\n",
    "\n",
    "En este taller se usará el conjunto de datos de sentimientos sobre distintas aerolíneas de EE.UU. provenientes de Twitter. Cada observación contiene si el sentimiento de los tweets es positivo, neutral o negativo teniendo en cuenta distintas variables como aerolínea y las razones de los sentimientos negativos (como \"retraso en el vuelo\" o \"servicio grosero\"). El objetivo es predecir el sentimiento asociado a cada tweet. Para más detalles pueden visitar el siguiente enlace: [datos](https://www.kaggle.com/crowdflower/twitter-airline-sentiment)."
   ]
  },
  {
   "cell_type": "code",
   "execution_count": 2,
   "metadata": {},
   "outputs": [],
   "source": [
    "import warnings\n",
    "warnings.filterwarnings('ignore')"
   ]
  },
  {
   "cell_type": "code",
   "execution_count": 3,
   "metadata": {},
   "outputs": [],
   "source": [
    "# Importación de librerías\n",
    "import pandas as pd\n",
    "import numpy as np\n",
    "%matplotlib inline\n",
    "import matplotlib.pyplot as plt"
   ]
  },
  {
   "cell_type": "code",
   "execution_count": 4,
   "metadata": {},
   "outputs": [
    {
     "data": {
      "text/html": [
       "<div>\n",
       "<style scoped>\n",
       "    .dataframe tbody tr th:only-of-type {\n",
       "        vertical-align: middle;\n",
       "    }\n",
       "\n",
       "    .dataframe tbody tr th {\n",
       "        vertical-align: top;\n",
       "    }\n",
       "\n",
       "    .dataframe thead th {\n",
       "        text-align: right;\n",
       "    }\n",
       "</style>\n",
       "<table border=\"1\" class=\"dataframe\">\n",
       "  <thead>\n",
       "    <tr style=\"text-align: right;\">\n",
       "      <th></th>\n",
       "      <th>airline_sentiment</th>\n",
       "      <th>airline_sentiment_confidence</th>\n",
       "      <th>negativereason</th>\n",
       "      <th>negativereason_confidence</th>\n",
       "      <th>airline</th>\n",
       "      <th>airline_sentiment_gold</th>\n",
       "      <th>name</th>\n",
       "      <th>negativereason_gold</th>\n",
       "      <th>retweet_count</th>\n",
       "      <th>text</th>\n",
       "      <th>tweet_coord</th>\n",
       "      <th>tweet_created</th>\n",
       "      <th>tweet_location</th>\n",
       "      <th>user_timezone</th>\n",
       "    </tr>\n",
       "    <tr>\n",
       "      <th>tweet_id</th>\n",
       "      <th></th>\n",
       "      <th></th>\n",
       "      <th></th>\n",
       "      <th></th>\n",
       "      <th></th>\n",
       "      <th></th>\n",
       "      <th></th>\n",
       "      <th></th>\n",
       "      <th></th>\n",
       "      <th></th>\n",
       "      <th></th>\n",
       "      <th></th>\n",
       "      <th></th>\n",
       "      <th></th>\n",
       "    </tr>\n",
       "  </thead>\n",
       "  <tbody>\n",
       "    <tr>\n",
       "      <th>570306133677760513</th>\n",
       "      <td>neutral</td>\n",
       "      <td>1.0000</td>\n",
       "      <td>NaN</td>\n",
       "      <td>NaN</td>\n",
       "      <td>Virgin America</td>\n",
       "      <td>NaN</td>\n",
       "      <td>cairdin</td>\n",
       "      <td>NaN</td>\n",
       "      <td>0</td>\n",
       "      <td>@VirginAmerica What @dhepburn said.</td>\n",
       "      <td>NaN</td>\n",
       "      <td>2015-02-24 11:35:52 -0800</td>\n",
       "      <td>NaN</td>\n",
       "      <td>Eastern Time (US &amp; Canada)</td>\n",
       "    </tr>\n",
       "    <tr>\n",
       "      <th>570301130888122368</th>\n",
       "      <td>positive</td>\n",
       "      <td>0.3486</td>\n",
       "      <td>NaN</td>\n",
       "      <td>0.0000</td>\n",
       "      <td>Virgin America</td>\n",
       "      <td>NaN</td>\n",
       "      <td>jnardino</td>\n",
       "      <td>NaN</td>\n",
       "      <td>0</td>\n",
       "      <td>@VirginAmerica plus you've added commercials t...</td>\n",
       "      <td>NaN</td>\n",
       "      <td>2015-02-24 11:15:59 -0800</td>\n",
       "      <td>NaN</td>\n",
       "      <td>Pacific Time (US &amp; Canada)</td>\n",
       "    </tr>\n",
       "    <tr>\n",
       "      <th>570301083672813571</th>\n",
       "      <td>neutral</td>\n",
       "      <td>0.6837</td>\n",
       "      <td>NaN</td>\n",
       "      <td>NaN</td>\n",
       "      <td>Virgin America</td>\n",
       "      <td>NaN</td>\n",
       "      <td>yvonnalynn</td>\n",
       "      <td>NaN</td>\n",
       "      <td>0</td>\n",
       "      <td>@VirginAmerica I didn't today... Must mean I n...</td>\n",
       "      <td>NaN</td>\n",
       "      <td>2015-02-24 11:15:48 -0800</td>\n",
       "      <td>Lets Play</td>\n",
       "      <td>Central Time (US &amp; Canada)</td>\n",
       "    </tr>\n",
       "    <tr>\n",
       "      <th>570301031407624196</th>\n",
       "      <td>negative</td>\n",
       "      <td>1.0000</td>\n",
       "      <td>Bad Flight</td>\n",
       "      <td>0.7033</td>\n",
       "      <td>Virgin America</td>\n",
       "      <td>NaN</td>\n",
       "      <td>jnardino</td>\n",
       "      <td>NaN</td>\n",
       "      <td>0</td>\n",
       "      <td>@VirginAmerica it's really aggressive to blast...</td>\n",
       "      <td>NaN</td>\n",
       "      <td>2015-02-24 11:15:36 -0800</td>\n",
       "      <td>NaN</td>\n",
       "      <td>Pacific Time (US &amp; Canada)</td>\n",
       "    </tr>\n",
       "    <tr>\n",
       "      <th>570300817074462722</th>\n",
       "      <td>negative</td>\n",
       "      <td>1.0000</td>\n",
       "      <td>Can't Tell</td>\n",
       "      <td>1.0000</td>\n",
       "      <td>Virgin America</td>\n",
       "      <td>NaN</td>\n",
       "      <td>jnardino</td>\n",
       "      <td>NaN</td>\n",
       "      <td>0</td>\n",
       "      <td>@VirginAmerica and it's a really big bad thing...</td>\n",
       "      <td>NaN</td>\n",
       "      <td>2015-02-24 11:14:45 -0800</td>\n",
       "      <td>NaN</td>\n",
       "      <td>Pacific Time (US &amp; Canada)</td>\n",
       "    </tr>\n",
       "  </tbody>\n",
       "</table>\n",
       "</div>"
      ],
      "text/plain": [
       "                   airline_sentiment  airline_sentiment_confidence  \\\n",
       "tweet_id                                                             \n",
       "570306133677760513           neutral                        1.0000   \n",
       "570301130888122368          positive                        0.3486   \n",
       "570301083672813571           neutral                        0.6837   \n",
       "570301031407624196          negative                        1.0000   \n",
       "570300817074462722          negative                        1.0000   \n",
       "\n",
       "                   negativereason  negativereason_confidence         airline  \\\n",
       "tweet_id                                                                       \n",
       "570306133677760513            NaN                        NaN  Virgin America   \n",
       "570301130888122368            NaN                     0.0000  Virgin America   \n",
       "570301083672813571            NaN                        NaN  Virgin America   \n",
       "570301031407624196     Bad Flight                     0.7033  Virgin America   \n",
       "570300817074462722     Can't Tell                     1.0000  Virgin America   \n",
       "\n",
       "                   airline_sentiment_gold        name negativereason_gold  \\\n",
       "tweet_id                                                                    \n",
       "570306133677760513                    NaN     cairdin                 NaN   \n",
       "570301130888122368                    NaN    jnardino                 NaN   \n",
       "570301083672813571                    NaN  yvonnalynn                 NaN   \n",
       "570301031407624196                    NaN    jnardino                 NaN   \n",
       "570300817074462722                    NaN    jnardino                 NaN   \n",
       "\n",
       "                    retweet_count  \\\n",
       "tweet_id                            \n",
       "570306133677760513              0   \n",
       "570301130888122368              0   \n",
       "570301083672813571              0   \n",
       "570301031407624196              0   \n",
       "570300817074462722              0   \n",
       "\n",
       "                                                                 text  \\\n",
       "tweet_id                                                                \n",
       "570306133677760513                @VirginAmerica What @dhepburn said.   \n",
       "570301130888122368  @VirginAmerica plus you've added commercials t...   \n",
       "570301083672813571  @VirginAmerica I didn't today... Must mean I n...   \n",
       "570301031407624196  @VirginAmerica it's really aggressive to blast...   \n",
       "570300817074462722  @VirginAmerica and it's a really big bad thing...   \n",
       "\n",
       "                   tweet_coord              tweet_created tweet_location  \\\n",
       "tweet_id                                                                   \n",
       "570306133677760513         NaN  2015-02-24 11:35:52 -0800            NaN   \n",
       "570301130888122368         NaN  2015-02-24 11:15:59 -0800            NaN   \n",
       "570301083672813571         NaN  2015-02-24 11:15:48 -0800      Lets Play   \n",
       "570301031407624196         NaN  2015-02-24 11:15:36 -0800            NaN   \n",
       "570300817074462722         NaN  2015-02-24 11:14:45 -0800            NaN   \n",
       "\n",
       "                                 user_timezone  \n",
       "tweet_id                                        \n",
       "570306133677760513  Eastern Time (US & Canada)  \n",
       "570301130888122368  Pacific Time (US & Canada)  \n",
       "570301083672813571  Central Time (US & Canada)  \n",
       "570301031407624196  Pacific Time (US & Canada)  \n",
       "570300817074462722  Pacific Time (US & Canada)  "
      ]
     },
     "execution_count": 4,
     "metadata": {},
     "output_type": "execute_result"
    }
   ],
   "source": [
    "# Lectura de la información de archivo .zip\n",
    "tweets = pd.read_csv('https://raw.githubusercontent.com/albahnsen/MIAD_ML_and_NLP/main/datasets/Tweets.zip', index_col=0)\n",
    "\n",
    "# Visualización dataset\n",
    "tweets.head()"
   ]
  },
  {
   "cell_type": "code",
   "execution_count": 5,
   "metadata": {},
   "outputs": [
    {
     "name": "stdout",
     "output_type": "stream",
     "text": [
      "                   airline_sentiment  airline_sentiment_confidence  \\\n",
      "tweet_id                                                             \n",
      "570306133677760513           neutral                        1.0000   \n",
      "570301130888122368          positive                        0.3486   \n",
      "570301083672813571           neutral                        0.6837   \n",
      "570301031407624196          negative                        1.0000   \n",
      "570300817074462722          negative                        1.0000   \n",
      "...                              ...                           ...   \n",
      "569587686496825344          positive                        0.3487   \n",
      "569587371693355008          negative                        1.0000   \n",
      "569587242672398336           neutral                        1.0000   \n",
      "569587188687634433          negative                        1.0000   \n",
      "569587140490866689           neutral                        0.6771   \n",
      "\n",
      "                            negativereason  negativereason_confidence  \\\n",
      "tweet_id                                                                \n",
      "570306133677760513                     NaN                        NaN   \n",
      "570301130888122368                     NaN                     0.0000   \n",
      "570301083672813571                     NaN                        NaN   \n",
      "570301031407624196              Bad Flight                     0.7033   \n",
      "570300817074462722              Can't Tell                     1.0000   \n",
      "...                                    ...                        ...   \n",
      "569587686496825344                     NaN                     0.0000   \n",
      "569587371693355008  Customer Service Issue                     1.0000   \n",
      "569587242672398336                     NaN                        NaN   \n",
      "569587188687634433  Customer Service Issue                     0.6659   \n",
      "569587140490866689                     NaN                     0.0000   \n",
      "\n",
      "                           airline airline_sentiment_gold             name  \\\n",
      "tweet_id                                                                     \n",
      "570306133677760513  Virgin America                    NaN          cairdin   \n",
      "570301130888122368  Virgin America                    NaN         jnardino   \n",
      "570301083672813571  Virgin America                    NaN       yvonnalynn   \n",
      "570301031407624196  Virgin America                    NaN         jnardino   \n",
      "570300817074462722  Virgin America                    NaN         jnardino   \n",
      "...                            ...                    ...              ...   \n",
      "569587686496825344        American                    NaN  KristenReenders   \n",
      "569587371693355008        American                    NaN         itsropes   \n",
      "569587242672398336        American                    NaN         sanyabun   \n",
      "569587188687634433        American                    NaN       SraJackson   \n",
      "569587140490866689        American                    NaN        daviddtwu   \n",
      "\n",
      "                   negativereason_gold  retweet_count  \\\n",
      "tweet_id                                                \n",
      "570306133677760513                 NaN              0   \n",
      "570301130888122368                 NaN              0   \n",
      "570301083672813571                 NaN              0   \n",
      "570301031407624196                 NaN              0   \n",
      "570300817074462722                 NaN              0   \n",
      "...                                ...            ...   \n",
      "569587686496825344                 NaN              0   \n",
      "569587371693355008                 NaN              0   \n",
      "569587242672398336                 NaN              0   \n",
      "569587188687634433                 NaN              0   \n",
      "569587140490866689                 NaN              0   \n",
      "\n",
      "                                                                 text  \\\n",
      "tweet_id                                                                \n",
      "570306133677760513                @VirginAmerica What @dhepburn said.   \n",
      "570301130888122368  @VirginAmerica plus you've added commercials t...   \n",
      "570301083672813571  @VirginAmerica I didn't today... Must mean I n...   \n",
      "570301031407624196  @VirginAmerica it's really aggressive to blast...   \n",
      "570300817074462722  @VirginAmerica and it's a really big bad thing...   \n",
      "...                                                               ...   \n",
      "569587686496825344  @AmericanAir thank you we got on a different f...   \n",
      "569587371693355008  @AmericanAir leaving over 20 minutes Late Flig...   \n",
      "569587242672398336  @AmericanAir Please bring American Airlines to...   \n",
      "569587188687634433  @AmericanAir you have my money, you change my ...   \n",
      "569587140490866689  @AmericanAir we have 8 ppl so we need 2 know h...   \n",
      "\n",
      "                   tweet_coord              tweet_created tweet_location  \\\n",
      "tweet_id                                                                   \n",
      "570306133677760513         NaN  2015-02-24 11:35:52 -0800            NaN   \n",
      "570301130888122368         NaN  2015-02-24 11:15:59 -0800            NaN   \n",
      "570301083672813571         NaN  2015-02-24 11:15:48 -0800      Lets Play   \n",
      "570301031407624196         NaN  2015-02-24 11:15:36 -0800            NaN   \n",
      "570300817074462722         NaN  2015-02-24 11:14:45 -0800            NaN   \n",
      "...                        ...                        ...            ...   \n",
      "569587686496825344         NaN  2015-02-22 12:01:01 -0800            NaN   \n",
      "569587371693355008         NaN  2015-02-22 11:59:46 -0800          Texas   \n",
      "569587242672398336         NaN  2015-02-22 11:59:15 -0800  Nigeria,lagos   \n",
      "569587188687634433         NaN  2015-02-22 11:59:02 -0800     New Jersey   \n",
      "569587140490866689         NaN  2015-02-22 11:58:51 -0800     dallas, TX   \n",
      "\n",
      "                                 user_timezone  \n",
      "tweet_id                                        \n",
      "570306133677760513  Eastern Time (US & Canada)  \n",
      "570301130888122368  Pacific Time (US & Canada)  \n",
      "570301083672813571  Central Time (US & Canada)  \n",
      "570301031407624196  Pacific Time (US & Canada)  \n",
      "570300817074462722  Pacific Time (US & Canada)  \n",
      "...                                        ...  \n",
      "569587686496825344                         NaN  \n",
      "569587371693355008                         NaN  \n",
      "569587242672398336                         NaN  \n",
      "569587188687634433  Eastern Time (US & Canada)  \n",
      "569587140490866689                         NaN  \n",
      "\n",
      "[14640 rows x 14 columns]\n"
     ]
    }
   ],
   "source": [
    "print(tweets)"
   ]
  },
  {
   "cell_type": "code",
   "execution_count": 6,
   "metadata": {},
   "outputs": [
    {
     "data": {
      "text/plain": [
       "(14640, 14)"
      ]
     },
     "execution_count": 6,
     "metadata": {},
     "output_type": "execute_result"
    }
   ],
   "source": [
    "# Impresión tamaño del cojunto de datos\n",
    "tweets.shape"
   ]
  },
  {
   "cell_type": "markdown",
   "metadata": {},
   "source": [
    "### Análisis descriptivo"
   ]
  },
  {
   "cell_type": "code",
   "execution_count": 7,
   "metadata": {},
   "outputs": [
    {
     "data": {
      "text/plain": [
       "airline_sentiment\n",
       "negative    9178\n",
       "neutral     3099\n",
       "positive    2363\n",
       "Name: count, dtype: int64"
      ]
     },
     "execution_count": 7,
     "metadata": {},
     "output_type": "execute_result"
    }
   ],
   "source": [
    "# Cuenta de tweets por cada sentimiento\n",
    "tweets['airline_sentiment'].value_counts()"
   ]
  },
  {
   "cell_type": "code",
   "execution_count": 8,
   "metadata": {},
   "outputs": [
    {
     "data": {
      "text/plain": [
       "airline\n",
       "United            3822\n",
       "US Airways        2913\n",
       "American          2759\n",
       "Southwest         2420\n",
       "Delta             2222\n",
       "Virgin America     504\n",
       "Name: count, dtype: int64"
      ]
     },
     "execution_count": 8,
     "metadata": {},
     "output_type": "execute_result"
    }
   ],
   "source": [
    "# Cuenta de tweets por cada aerolínea\n",
    "tweets['airline'].value_counts()"
   ]
  },
  {
   "cell_type": "code",
   "execution_count": 9,
   "metadata": {},
   "outputs": [
    {
     "data": {
      "text/plain": [
       "<Axes: title={'center': 'Sentiminetos por aerolínea'}, xlabel='airline'>"
      ]
     },
     "execution_count": 9,
     "metadata": {},
     "output_type": "execute_result"
    }
   ],
   "source": [
    "# Plot con cuenta de tweets por cada aerolínea y sentimiento\n",
    "pd.crosstab(index = tweets[\"airline\"],columns = tweets[\"airline_sentiment\"]).plot(kind='bar',figsize=(10, 6),alpha=0.5,rot=0,stacked=True,title=\"Sentiminetos por aerolínea\")"
   ]
  },
  {
   "cell_type": "code",
   "execution_count": 22,
   "metadata": {},
   "outputs": [
    {
     "data": {
      "image/png": "[encoded data removed]",
      "text/plain": [
       "<Figure size 1000x600 with 1 Axes>"
      ]
     },
     "metadata": {},
     "output_type": "display_data"
    }
   ],
   "source": [
    "# Gráfico de barras apiladas de sentimientos por aerolínea\n",
    "pd.crosstab(index=tweets[\"airline\"],\n",
    "            columns=tweets[\"airline_sentiment\"])\\\n",
    "  .plot(kind='bar',\n",
    "        figsize=(10, 6),\n",
    "        alpha=0.7,\n",
    "        rot=0,\n",
    "        stacked=True)\n",
    "\n",
    "plt.title(\"Sentimientos por aerolínea\")\n",
    "plt.xlabel(\"Aerolínea\")\n",
    "plt.ylabel(\"Cantidad de tweets\")\n",
    "plt.legend(title=\"Sentimiento\")\n",
    "plt.tight_layout()\n",
    "plt.show()"
   ]
  },
  {
   "cell_type": "markdown",
   "metadata": {},
   "source": [
    "### Liberias y Variables de interés y predicción"
   ]
  },
  {
   "cell_type": "code",
   "execution_count": 11,
   "metadata": {},
   "outputs": [],
   "source": [
    "from sklearn.model_selection import train_test_split, cross_val_score\n",
    "from sklearn.feature_extraction.text import CountVectorizer, TfidfVectorizer\n",
    "from sklearn.ensemble import RandomForestClassifier\n",
    "from nltk.stem.snowball import SnowballStemmer\n",
    "from nltk.stem import WordNetLemmatizer\n",
    "import nltk\n",
    "from sklearn.metrics import accuracy_score"
   ]
  },
  {
   "cell_type": "code",
   "execution_count": 12,
   "metadata": {},
   "outputs": [],
   "source": [
    "# Separación de variables predictoras (X) y de variable de interés (y)\n",
    "X = tweets['text']\n",
    "y = tweets['airline_sentiment'].map({'negative':-1,'neutral':0,'positive':1})"
   ]
  },
  {
   "cell_type": "code",
   "execution_count": 13,
   "metadata": {},
   "outputs": [],
   "source": [
    "# Separación de datos en set de entrenamiento y test\n",
    "X_train, X_test, y_train, y_test = train_test_split(X, y, test_size=0.33, random_state=42)"
   ]
  },
  {
   "cell_type": "markdown",
   "metadata": {},
   "source": [
    "### Punto 1 - Uso de CountVectorizer\n",
    "\n",
    "En la celda 1 creen un modelo de random forest con la libreria sklearn que prediga el sentimiento de los tweets usando los set de entrenamiento y test definidos anteriormente. Usen la función **CountVectorizer** y presenten el desempeño del modelo con la métrica del acurracy.\n",
    "\n",
    "Recuerden que el preprocesamiento que se haga sobre los datos de entrenamiento  (*.fit_transform()*) deben ser aplicado al set de test (*.transform()*)."
   ]
  },
  {
   "cell_type": "code",
   "execution_count": 15,
   "metadata": {},
   "outputs": [
    {
     "name": "stdout",
     "output_type": "stream",
     "text": [
      "Accuracy del modelo: 0.7711\n"
     ]
    }
   ],
   "source": [
    "# Celda 1\n",
    "\n",
    "# 1. Vectorización del texto\n",
    "vectorizer = CountVectorizer(lowercase=True)\n",
    "\n",
    "# Ajustar solo con el set de entrenamiento\n",
    "X_train_vec = vectorizer.fit_transform(X_train)\n",
    "\n",
    "# Transformar el set de test\n",
    "X_test_vec = vectorizer.transform(X_test)\n",
    "\n",
    "# 2. Entrenamiento del modelo Random Forest\n",
    "rf_model = RandomForestClassifier(random_state=42)\n",
    "rf_model.fit(X_train_vec, y_train)\n",
    "\n",
    "# 3. Predicción sobre el set de test\n",
    "y_pred = rf_model.predict(X_test_vec)\n",
    "\n",
    "# 4. Evaluación del modelo\n",
    "accuracyCV = accuracy_score(y_test, y_pred)\n",
    "print(f'Accuracy del modelo: {accuracyCV:.4f}')"
   ]
  },
  {
   "cell_type": "markdown",
   "metadata": {},
   "source": [
    "### Punto 2 - Eliminación de Stopwords\n",
    "\n",
    "En la celda 2 creen un modelo de random forest con la libreria sklearn que prediga el sentimiento de los tweets usando los set de entrenamiento y test definidos anteriormente. Usen la función CountVectorizer, **eliminen stopwords** y presenten el desempeño del modelo con la métrica del acurracy.\n",
    "\n",
    "Recuerden que el preprocesamiento que se haga sobre los datos de entrenamiento  (*.fit_transform()*) deben ser aplicado al set de test (*.transform()*)."
   ]
  },
  {
   "cell_type": "code",
   "execution_count": 16,
   "metadata": {},
   "outputs": [
    {
     "name": "stdout",
     "output_type": "stream",
     "text": [
      "Accuracy del modelo (sin stopwords): 0.7618\n"
     ]
    }
   ],
   "source": [
    "# Celda 2\n",
    "\n",
    "# 1. Vectorización del texto con eliminación de stopwords\n",
    "vect_no_stopw = CountVectorizer(stop_words='english', lowercase=True)\n",
    "\n",
    "# Ajustar solo con los datos de entrenamiento\n",
    "X_train_vec = vect_no_stopw.fit_transform(X_train)\n",
    "\n",
    "# Transformar los datos de test\n",
    "X_test_vec = vect_no_stopw.transform(X_test)\n",
    "\n",
    "# 2. Entrenamiento del modelo Random Forest\n",
    "rf_model = RandomForestClassifier(random_state=42)\n",
    "rf_model.fit(X_train_vec, y_train)\n",
    "\n",
    "# 3. Predicciones sobre el set de test\n",
    "y_pred = rf_model.predict(X_test_vec)\n",
    "\n",
    "# 4. Evaluación del modelo con accuracy\n",
    "accuracySW = accuracy_score(y_test, y_pred)\n",
    "print(f'Accuracy del modelo (sin stopwords): {accuracySW:.4f}')"
   ]
  },
  {
   "cell_type": "markdown",
   "metadata": {},
   "source": [
    "### Punto 3 - Lematización con verbos\n",
    "\n",
    "En la celda 3 creen un modelo de random forest con la libreria sklearn que prediga el sentimiento de los tweets usando los set de entrenamiento y test definidos anteriormente. Usen la función CountVectorizer, **lematizen el texto con verbos** y presenten el desempeño del modelo con la métrica del acurracy.\n",
    "\n",
    "Recuerden que el preprocesamiento que se haga sobre los datos de entrenamiento  (*.fit_transform()*) deben ser aplicado al set de test (*.transform()*)."
   ]
  },
  {
   "cell_type": "code",
   "execution_count": 17,
   "metadata": {},
   "outputs": [
    {
     "name": "stderr",
     "output_type": "stream",
     "text": [
      "[nltk_data] Downloading package wordnet to\n",
      "[nltk_data]     C:\\Users\\USER\\AppData\\Roaming\\nltk_data...\n",
      "[nltk_data]   Package wordnet is already up-to-date!\n"
     ]
    },
    {
     "name": "stdout",
     "output_type": "stream",
     "text": [
      "Accuracy del modelo con lematización de verbos: 0.7612\n"
     ]
    }
   ],
   "source": [
    "# Celda 3\n",
    "\n",
    "# Descargar 'wordnet' de nltk si no está instalado\n",
    "nltk.download('wordnet')\n",
    "\n",
    "# Lematizador de WordNet\n",
    "wordnet_lemmatizer = WordNetLemmatizer()\n",
    "\n",
    "# Definir función para lematizar como verbos\n",
    "def split_into_lemmas(text):\n",
    "    text = text.lower()  # Convertir a minúsculas\n",
    "    words = text.split()  # Separar el texto en palabras\n",
    "    return [wordnet_lemmatizer.lemmatize(word, pos='v') for word in words]  # Lematizar las palabras como verbos\n",
    "\n",
    "# 1. Vectorización del texto con lematización de verbos\n",
    "vect_lemas = CountVectorizer(analyzer=split_into_lemmas)\n",
    "\n",
    "# Ajustar solo con el set de entrenamiento\n",
    "X_train_vec = vect_lemas.fit_transform(X_train)\n",
    "\n",
    "# Transformar el set de test\n",
    "X_test_vec = vect_lemas.transform(X_test)\n",
    "\n",
    "# 2. Entrenamiento del modelo Random Forest\n",
    "rf_model = RandomForestClassifier(random_state=42)\n",
    "rf_model.fit(X_train_vec, y_train)\n",
    "\n",
    "# 3. Predicción sobre el set de test\n",
    "y_pred = rf_model.predict(X_test_vec)\n",
    "\n",
    "# 4. Evaluación del modelo con accuracy\n",
    "accuracyLM = accuracy_score(y_test, y_pred)\n",
    "print(f'Accuracy del modelo con lematización de verbos: {accuracyLM:.4f}')"
   ]
  },
  {
   "cell_type": "markdown",
   "metadata": {},
   "source": [
    "### Punto 4 - Multiples técnicas\n",
    "\n",
    "En la celda 4 creen un modelo de random forest con la libreria sklearn que prediga el sentimiento de los tweets usando los set de entrenamiento y test definidos anteriormente. Usen la función **CountVectorizer, eliminen stopwords, lematizen el texto con verbos** y presenten el desempeño del modelo con la métrica del acurracy.\n",
    "\n",
    "Recuerden que el preprocesamiento que se haga sobre los datos de entrenamiento  (*.fit_transform()*) deben ser aplicado al set de test (*.transform()*)."
   ]
  },
  {
   "cell_type": "code",
   "execution_count": 19,
   "metadata": {},
   "outputs": [
    {
     "name": "stdout",
     "output_type": "stream",
     "text": [
      "Fitting 3 folds for each of 24 candidates, totalling 72 fits\n",
      "Mejores hiperparámetros: {'max_depth': None, 'max_features': 'log2', 'min_samples_split': 5, 'n_estimators': 200}\n",
      "Accuracy (CV): 0.7585635174775304\n",
      "Accuracy (test): 0.7847682119205298\n"
     ]
    }
   ],
   "source": [
    "# Lematizador como verbo\n",
    "from nltk.stem import WordNetLemmatizer\n",
    "lemmatizer = WordNetLemmatizer()\n",
    "\n",
    "def lemmatize_as_verbs(text):\n",
    "    words = str(text).lower().split()\n",
    "    return [lemmatizer.lemmatize(word, pos='v') for word in words]\n",
    "\n",
    "# Vectorización con CountVectorizer + stopwords + lematización como verbos\n",
    "from sklearn.feature_extraction.text import CountVectorizer\n",
    "vectorizer = CountVectorizer(stop_words='english', analyzer=lemmatize_as_verbs)\n",
    "\n",
    "X_train_vectf = vectorizer.fit_transform(X_train)\n",
    "X_test_vectf = vectorizer.transform(X_test)\n",
    "\n",
    "# Optimización con GridSearchCV\n",
    "from sklearn.ensemble import RandomForestClassifier\n",
    "from sklearn.model_selection import GridSearchCV\n",
    "from sklearn.metrics import accuracy_score, classification_report\n",
    "\n",
    "params = {\n",
    "    'n_estimators': [100, 200],\n",
    "    'max_depth': [None, 10, 20],\n",
    "    'max_features': ['sqrt', 'log2'],\n",
    "    'min_samples_split': [2, 5]\n",
    "}\n",
    "\n",
    "rf = RandomForestClassifier(random_state=42, class_weight='balanced')\n",
    "grid = GridSearchCV(rf, params, cv=3, scoring='accuracy', verbose=1, n_jobs=-1)\n",
    "grid.fit(X_train_vectf, y_train)\n",
    "\n",
    "# Evaluación\n",
    "print(\"Mejores hiperparámetros:\", grid.best_params_)\n",
    "print(\"Accuracy (CV):\", grid.best_score_)\n",
    "\n",
    "y_pred = grid.best_estimator_.predict(X_test_vectf)\n",
    "print(\"Accuracy (test):\", accuracy_score(y_test, y_pred))\n",
    "\n",
    "accuracyRFALL=accuracy_score(y_test, y_pred)\n"
   ]
  },
  {
   "cell_type": "markdown",
   "metadata": {},
   "source": [
    "### Punto 5 - Comparación y análisis de resultados\n",
    "\n",
    "En la celda 5 comparen los resultados obtenidos de los diferentes modelos (random forest) y comenten las ventajas del mejor modelo y las desventajas del modelo con el menor desempeño."
   ]
  },
  {
   "cell_type": "code",
   "execution_count": 23,
   "metadata": {},
   "outputs": [
    {
     "data": {
      "image/png": "[encoded data removed]",
      "text/plain": [
       "<Figure size 800x600 with 1 Axes>"
      ]
     },
     "metadata": {},
     "output_type": "display_data"
    }
   ],
   "source": [
    "# Celda 5\n",
    "\n",
    "# Definimos las métricas\n",
    "accuracies = {\n",
    "    'accuracyCV': accuracyCV,  # Accuracy con stopwords eliminados\n",
    "    'accuracySW': accuracySW,  # Accuracy sin stopwords\n",
    "    'accuracyLM': accuracyLM,  # Accuracy con lematización\n",
    "    'accuracyALLoptimize':accuracyRFALL # Acuracy con CountVectorizer, eliminen stopwords, lematizen el texto con verbos y modelo de random forest\n",
    "}\n",
    "\n",
    "\n",
    "# Crear gráfico de barras\n",
    "plt.figure(figsize=(8, 6))\n",
    "bars = plt.bar(accuracies.keys(), accuracies.values(), color=['blue', 'orange', 'green', 'red','yellow'])\n",
    "\n",
    "# Añadir etiquetas sobre las barras\n",
    "for bar in bars:\n",
    "    yval = bar.get_height()\n",
    "    plt.text(bar.get_x() + bar.get_width()/2, yval + 0.005, round(yval, 4), ha='center', va='bottom')\n",
    "\n",
    "plt.title('Comparación de modelos: Accuracy')\n",
    "plt.xlabel('Modelo')\n",
    "plt.ylabel('Accuracy')\n",
    "plt.ylim(0.7, 0.8)  # Limitar el rango de y para ver mejor la comparación\n",
    "plt.show()"
   ]
  },
  {
   "cell_type": "markdown",
   "metadata": {},
   "source": [
    "En la comparación de modelos se evaluaron distintas combinaciones de técnicas de procesamiento de texto aplicadas a un clasificador Random Forest, de acuerdo a lo solicitado en los enunciados. El modelo base con CountVectorizer logró un desempeño aceptable (accuracy de 77.11%), mientras que la variacion de modelo con eliminación de stopwords redujo ligeramente la precisión (76.18%), posiblemente porque ciertos stopwords permiten para determinar de forma más precisa el sentimiento (hipótesis). La lematización por sí sola tampoco mejoró el rendimiento, obteniendo un accuracy similar (76.12%), lo que sugiere que reducir las palabras a su forma verbal sin otros ajustes no es suficiente para mejorar la capacidad predictiva del modelo.\n",
    "\n",
    "El mejor desempeño fue alcanzado por el modelo que combinó CountVectorizer, eliminación de stopwords, lematización como verbos y una optimización de hiperparámetros con GridSearchCV, logrando un accuracy de 78.48%. La mejora se debe a que permite que el modelo obtenga representaciones del texto más limpias y modifique los parámetros del modelo a fin de adaptarse mejor a los datos. Una de las ventajas es la robustez general y el incremento del rendimiento en terminos d e accuracy, aunque su desventaja es el aumento del tiempo computacional, puesto que tardó en términos de tiempo de ejecución más de tres veces más que los otros modelos. En conclusión, la combinación de técnicas de pre-procesamiento lingüístico junto con el ajuste del modelo permitirá mejorar significativamente el rendimiento en tareas de análisis de sentimientos, al menos para este problema y con estos datasets; es importante resaltar que la optimización d eaprametros fue fundamental en la mejora del accuracy. "
   ]
  },
  {
   "cell_type": "code",
   "execution_count": null,
   "metadata": {},
   "outputs": [],
   "source": []
  },
  {
   "cell_type": "code",
   "execution_count": null,
   "metadata": {},
   "outputs": [],
   "source": []
  }
 ],
 "metadata": {
  "kernelspec": {
   "display_name": "Python 3 (ipykernel)",
   "language": "python",
   "name": "python3"
  },
  "language_info": {
   "codemirror_mode": {
    "name": "ipython",
    "version": 3
   },
   "file_extension": ".py",
   "mimetype": "text/x-python",
   "name": "python",
   "nbconvert_exporter": "python",
   "pygments_lexer": "ipython3",
   "version": "3.12.5"
  }
 },
 "nbformat": 4,
 "nbformat_minor": 4
}
