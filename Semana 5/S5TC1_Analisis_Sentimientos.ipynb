{
 "cells": [
  {
   "cell_type": "markdown",
   "metadata": {},
   "source": [
    "![image info](https://raw.githubusercontent.com/albahnsen/MIAD_ML_and_NLP/main/images/banner_1.png)"
   ]
  },
  {
   "cell_type": "markdown",
   "metadata": {},
   "source": [
    "# Taller: Análisis de sentimientos y técnicas de NLP\n",
    "\n",
    "En este taller podrán poner en práctica sus conocimientos sobre las diferentes técnicas para el procesamiento de lenguaje natural. El taller está constituido por 5 puntos, en los cuales deberan seguir las intrucciones de cada numeral para su desarrollo."
   ]
  },
  {
   "cell_type": "markdown",
   "metadata": {},
   "source": [
    "## Datos predicción sentimientos de viajeros en Twitter\n",
    "\n",
    "En este taller se usará el conjunto de datos de sentimientos sobre distintas aerolíneas de EE.UU. provenientes de Twitter. Cada observación contiene si el sentimiento de los tweets es positivo, neutral o negativo teniendo en cuenta distintas variables como aerolínea y las razones de los sentimientos negativos (como \"retraso en el vuelo\" o \"servicio grosero\"). El objetivo es predecir el sentimiento asociado a cada tweet. Para más detalles pueden visitar el siguiente enlace: [datos](https://www.kaggle.com/crowdflower/twitter-airline-sentiment)."
   ]
  },
  {
   "cell_type": "code",
   "execution_count": 1,
   "metadata": {},
   "outputs": [],
   "source": [
    "import warnings\n",
    "warnings.filterwarnings('ignore')"
   ]
  },
  {
   "cell_type": "code",
   "execution_count": 3,
   "metadata": {},
   "outputs": [],
   "source": [
    "# Importación de librerías\n",
    "import pandas as pd\n",
    "import numpy as np\n",
    "%matplotlib inline\n",
    "import matplotlib.pyplot as plt"
   ]
  },
  {
   "cell_type": "code",
   "execution_count": 4,
   "metadata": {},
   "outputs": [
    {
     "data": {
      "application/vnd.microsoft.datawrangler.viewer.v0+json": {
       "columns": [
        {
         "name": "tweet_id",
         "rawType": "int64",
         "type": "integer"
        },
        {
         "name": "airline_sentiment",
         "rawType": "object",
         "type": "string"
        },
        {
         "name": "airline_sentiment_confidence",
         "rawType": "float64",
         "type": "float"
        },
        {
         "name": "negativereason",
         "rawType": "object",
         "type": "unknown"
        },
        {
         "name": "negativereason_confidence",
         "rawType": "float64",
         "type": "float"
        },
        {
         "name": "airline",
         "rawType": "object",
         "type": "string"
        },
        {
         "name": "airline_sentiment_gold",
         "rawType": "object",
         "type": "unknown"
        },
        {
         "name": "name",
         "rawType": "object",
         "type": "string"
        },
        {
         "name": "negativereason_gold",
         "rawType": "object",
         "type": "unknown"
        },
        {
         "name": "retweet_count",
         "rawType": "int64",
         "type": "integer"
        },
        {
         "name": "text",
         "rawType": "object",
         "type": "string"
        },
        {
         "name": "tweet_coord",
         "rawType": "object",
         "type": "unknown"
        },
        {
         "name": "tweet_created",
         "rawType": "object",
         "type": "string"
        },
        {
         "name": "tweet_location",
         "rawType": "object",
         "type": "unknown"
        },
        {
         "name": "user_timezone",
         "rawType": "object",
         "type": "string"
        }
       ],
       "conversionMethod": "pd.DataFrame",
       "ref": "aaef6a07-2b00-4920-80a4-bdcd85cbf1b0",
       "rows": [
        [
         "570306133677760513",
         "neutral",
         "1.0",
         null,
         null,
         "Virgin America",
         null,
         "cairdin",
         null,
         "0",
         "@VirginAmerica What @dhepburn said.",
         null,
         "2015-02-24 11:35:52 -0800",
         null,
         "Eastern Time (US & Canada)"
        ],
        [
         "570301130888122368",
         "positive",
         "0.3486",
         null,
         "0.0",
         "Virgin America",
         null,
         "jnardino",
         null,
         "0",
         "@VirginAmerica plus you've added commercials to the experience... tacky.",
         null,
         "2015-02-24 11:15:59 -0800",
         null,
         "Pacific Time (US & Canada)"
        ],
        [
         "570301083672813571",
         "neutral",
         "0.6837",
         null,
         null,
         "Virgin America",
         null,
         "yvonnalynn",
         null,
         "0",
         "@VirginAmerica I didn't today... Must mean I need to take another trip!",
         null,
         "2015-02-24 11:15:48 -0800",
         "Lets Play",
         "Central Time (US & Canada)"
        ],
        [
         "570301031407624196",
         "negative",
         "1.0",
         "Bad Flight",
         "0.7033",
         "Virgin America",
         null,
         "jnardino",
         null,
         "0",
         "@VirginAmerica it's really aggressive to blast obnoxious \"entertainment\" in your guests' faces &amp; they have little recourse",
         null,
         "2015-02-24 11:15:36 -0800",
         null,
         "Pacific Time (US & Canada)"
        ],
        [
         "570300817074462722",
         "negative",
         "1.0",
         "Can't Tell",
         "1.0",
         "Virgin America",
         null,
         "jnardino",
         null,
         "0",
         "@VirginAmerica and it's a really big bad thing about it",
         null,
         "2015-02-24 11:14:45 -0800",
         null,
         "Pacific Time (US & Canada)"
        ]
       ],
       "shape": {
        "columns": 14,
        "rows": 5
       }
      },
      "text/html": [
       "<div>\n",
       "<style scoped>\n",
       "    .dataframe tbody tr th:only-of-type {\n",
       "        vertical-align: middle;\n",
       "    }\n",
       "\n",
       "    .dataframe tbody tr th {\n",
       "        vertical-align: top;\n",
       "    }\n",
       "\n",
       "    .dataframe thead th {\n",
       "        text-align: right;\n",
       "    }\n",
       "</style>\n",
       "<table border=\"1\" class=\"dataframe\">\n",
       "  <thead>\n",
       "    <tr style=\"text-align: right;\">\n",
       "      <th></th>\n",
       "      <th>airline_sentiment</th>\n",
       "      <th>airline_sentiment_confidence</th>\n",
       "      <th>negativereason</th>\n",
       "      <th>negativereason_confidence</th>\n",
       "      <th>airline</th>\n",
       "      <th>airline_sentiment_gold</th>\n",
       "      <th>name</th>\n",
       "      <th>negativereason_gold</th>\n",
       "      <th>retweet_count</th>\n",
       "      <th>text</th>\n",
       "      <th>tweet_coord</th>\n",
       "      <th>tweet_created</th>\n",
       "      <th>tweet_location</th>\n",
       "      <th>user_timezone</th>\n",
       "    </tr>\n",
       "    <tr>\n",
       "      <th>tweet_id</th>\n",
       "      <th></th>\n",
       "      <th></th>\n",
       "      <th></th>\n",
       "      <th></th>\n",
       "      <th></th>\n",
       "      <th></th>\n",
       "      <th></th>\n",
       "      <th></th>\n",
       "      <th></th>\n",
       "      <th></th>\n",
       "      <th></th>\n",
       "      <th></th>\n",
       "      <th></th>\n",
       "      <th></th>\n",
       "    </tr>\n",
       "  </thead>\n",
       "  <tbody>\n",
       "    <tr>\n",
       "      <th>570306133677760513</th>\n",
       "      <td>neutral</td>\n",
       "      <td>1.0000</td>\n",
       "      <td>NaN</td>\n",
       "      <td>NaN</td>\n",
       "      <td>Virgin America</td>\n",
       "      <td>NaN</td>\n",
       "      <td>cairdin</td>\n",
       "      <td>NaN</td>\n",
       "      <td>0</td>\n",
       "      <td>@VirginAmerica What @dhepburn said.</td>\n",
       "      <td>NaN</td>\n",
       "      <td>2015-02-24 11:35:52 -0800</td>\n",
       "      <td>NaN</td>\n",
       "      <td>Eastern Time (US &amp; Canada)</td>\n",
       "    </tr>\n",
       "    <tr>\n",
       "      <th>570301130888122368</th>\n",
       "      <td>positive</td>\n",
       "      <td>0.3486</td>\n",
       "      <td>NaN</td>\n",
       "      <td>0.0000</td>\n",
       "      <td>Virgin America</td>\n",
       "      <td>NaN</td>\n",
       "      <td>jnardino</td>\n",
       "      <td>NaN</td>\n",
       "      <td>0</td>\n",
       "      <td>@VirginAmerica plus you've added commercials t...</td>\n",
       "      <td>NaN</td>\n",
       "      <td>2015-02-24 11:15:59 -0800</td>\n",
       "      <td>NaN</td>\n",
       "      <td>Pacific Time (US &amp; Canada)</td>\n",
       "    </tr>\n",
       "    <tr>\n",
       "      <th>570301083672813571</th>\n",
       "      <td>neutral</td>\n",
       "      <td>0.6837</td>\n",
       "      <td>NaN</td>\n",
       "      <td>NaN</td>\n",
       "      <td>Virgin America</td>\n",
       "      <td>NaN</td>\n",
       "      <td>yvonnalynn</td>\n",
       "      <td>NaN</td>\n",
       "      <td>0</td>\n",
       "      <td>@VirginAmerica I didn't today... Must mean I n...</td>\n",
       "      <td>NaN</td>\n",
       "      <td>2015-02-24 11:15:48 -0800</td>\n",
       "      <td>Lets Play</td>\n",
       "      <td>Central Time (US &amp; Canada)</td>\n",
       "    </tr>\n",
       "    <tr>\n",
       "      <th>570301031407624196</th>\n",
       "      <td>negative</td>\n",
       "      <td>1.0000</td>\n",
       "      <td>Bad Flight</td>\n",
       "      <td>0.7033</td>\n",
       "      <td>Virgin America</td>\n",
       "      <td>NaN</td>\n",
       "      <td>jnardino</td>\n",
       "      <td>NaN</td>\n",
       "      <td>0</td>\n",
       "      <td>@VirginAmerica it's really aggressive to blast...</td>\n",
       "      <td>NaN</td>\n",
       "      <td>2015-02-24 11:15:36 -0800</td>\n",
       "      <td>NaN</td>\n",
       "      <td>Pacific Time (US &amp; Canada)</td>\n",
       "    </tr>\n",
       "    <tr>\n",
       "      <th>570300817074462722</th>\n",
       "      <td>negative</td>\n",
       "      <td>1.0000</td>\n",
       "      <td>Can't Tell</td>\n",
       "      <td>1.0000</td>\n",
       "      <td>Virgin America</td>\n",
       "      <td>NaN</td>\n",
       "      <td>jnardino</td>\n",
       "      <td>NaN</td>\n",
       "      <td>0</td>\n",
       "      <td>@VirginAmerica and it's a really big bad thing...</td>\n",
       "      <td>NaN</td>\n",
       "      <td>2015-02-24 11:14:45 -0800</td>\n",
       "      <td>NaN</td>\n",
       "      <td>Pacific Time (US &amp; Canada)</td>\n",
       "    </tr>\n",
       "  </tbody>\n",
       "</table>\n",
       "</div>"
      ],
      "text/plain": [
       "                   airline_sentiment  airline_sentiment_confidence  \\\n",
       "tweet_id                                                             \n",
       "570306133677760513           neutral                        1.0000   \n",
       "570301130888122368          positive                        0.3486   \n",
       "570301083672813571           neutral                        0.6837   \n",
       "570301031407624196          negative                        1.0000   \n",
       "570300817074462722          negative                        1.0000   \n",
       "\n",
       "                   negativereason  negativereason_confidence         airline  \\\n",
       "tweet_id                                                                       \n",
       "570306133677760513            NaN                        NaN  Virgin America   \n",
       "570301130888122368            NaN                     0.0000  Virgin America   \n",
       "570301083672813571            NaN                        NaN  Virgin America   \n",
       "570301031407624196     Bad Flight                     0.7033  Virgin America   \n",
       "570300817074462722     Can't Tell                     1.0000  Virgin America   \n",
       "\n",
       "                   airline_sentiment_gold        name negativereason_gold  \\\n",
       "tweet_id                                                                    \n",
       "570306133677760513                    NaN     cairdin                 NaN   \n",
       "570301130888122368                    NaN    jnardino                 NaN   \n",
       "570301083672813571                    NaN  yvonnalynn                 NaN   \n",
       "570301031407624196                    NaN    jnardino                 NaN   \n",
       "570300817074462722                    NaN    jnardino                 NaN   \n",
       "\n",
       "                    retweet_count  \\\n",
       "tweet_id                            \n",
       "570306133677760513              0   \n",
       "570301130888122368              0   \n",
       "570301083672813571              0   \n",
       "570301031407624196              0   \n",
       "570300817074462722              0   \n",
       "\n",
       "                                                                 text  \\\n",
       "tweet_id                                                                \n",
       "570306133677760513                @VirginAmerica What @dhepburn said.   \n",
       "570301130888122368  @VirginAmerica plus you've added commercials t...   \n",
       "570301083672813571  @VirginAmerica I didn't today... Must mean I n...   \n",
       "570301031407624196  @VirginAmerica it's really aggressive to blast...   \n",
       "570300817074462722  @VirginAmerica and it's a really big bad thing...   \n",
       "\n",
       "                   tweet_coord              tweet_created tweet_location  \\\n",
       "tweet_id                                                                   \n",
       "570306133677760513         NaN  2015-02-24 11:35:52 -0800            NaN   \n",
       "570301130888122368         NaN  2015-02-24 11:15:59 -0800            NaN   \n",
       "570301083672813571         NaN  2015-02-24 11:15:48 -0800      Lets Play   \n",
       "570301031407624196         NaN  2015-02-24 11:15:36 -0800            NaN   \n",
       "570300817074462722         NaN  2015-02-24 11:14:45 -0800            NaN   \n",
       "\n",
       "                                 user_timezone  \n",
       "tweet_id                                        \n",
       "570306133677760513  Eastern Time (US & Canada)  \n",
       "570301130888122368  Pacific Time (US & Canada)  \n",
       "570301083672813571  Central Time (US & Canada)  \n",
       "570301031407624196  Pacific Time (US & Canada)  \n",
       "570300817074462722  Pacific Time (US & Canada)  "
      ]
     },
     "execution_count": 4,
     "metadata": {},
     "output_type": "execute_result"
    }
   ],
   "source": [
    "# Lectura de la información de archivo .zip\n",
    "tweets = pd.read_csv('https://raw.githubusercontent.com/albahnsen/MIAD_ML_and_NLP/main/datasets/Tweets.zip', index_col=0)\n",
    "\n",
    "# Visualización dataset\n",
    "tweets.head()"
   ]
  },
  {
   "cell_type": "code",
   "execution_count": 5,
   "metadata": {},
   "outputs": [
    {
     "data": {
      "text/plain": [
       "(14640, 14)"
      ]
     },
     "execution_count": 5,
     "metadata": {},
     "output_type": "execute_result"
    }
   ],
   "source": [
    "# Impresión tamaño del cojunto de datos\n",
    "tweets.shape"
   ]
  },
  {
   "cell_type": "markdown",
   "metadata": {},
   "source": [
    "### Análisis descriptivo"
   ]
  },
  {
   "cell_type": "code",
   "execution_count": 6,
   "metadata": {},
   "outputs": [
    {
     "data": {
      "text/plain": [
       "airline_sentiment\n",
       "negative    9178\n",
       "neutral     3099\n",
       "positive    2363\n",
       "Name: count, dtype: int64"
      ]
     },
     "execution_count": 6,
     "metadata": {},
     "output_type": "execute_result"
    }
   ],
   "source": [
    "# Cuenta de tweets por cada sentimiento\n",
    "tweets['airline_sentiment'].value_counts()"
   ]
  },
  {
   "cell_type": "code",
   "execution_count": 7,
   "metadata": {},
   "outputs": [
    {
     "data": {
      "text/plain": [
       "airline\n",
       "United            3822\n",
       "US Airways        2913\n",
       "American          2759\n",
       "Southwest         2420\n",
       "Delta             2222\n",
       "Virgin America     504\n",
       "Name: count, dtype: int64"
      ]
     },
     "execution_count": 7,
     "metadata": {},
     "output_type": "execute_result"
    }
   ],
   "source": [
    "# Cuenta de tweets por cada aerolínea\n",
    "tweets['airline'].value_counts()"
   ]
  },
  {
   "cell_type": "code",
   "execution_count": 8,
   "metadata": {},
   "outputs": [
    {
     "data": {
      "text/plain": [
       "<Axes: title={'center': 'Sentiminetos por aerolínea'}, xlabel='airline'>"
      ]
     },
     "execution_count": 8,
     "metadata": {},
     "output_type": "execute_result"
    },
    {
     "data": {
      "image/png": "[encoded data removed]",
      "text/plain": [
       "<Figure size 1000x600 with 1 Axes>"
      ]
     },
     "metadata": {},
     "output_type": "display_data"
    }
   ],
   "source": [
    "# Plot con cuenta de tweets por cada aerolínea y sentimiento\n",
    "pd.crosstab(index = tweets[\"airline\"],columns = tweets[\"airline_sentiment\"]).plot(kind='bar',figsize=(10, 6),alpha=0.5,rot=0,stacked=True,title=\"Sentiminetos por aerolínea\")"
   ]
  },
  {
   "cell_type": "markdown",
   "metadata": {},
   "source": [
    "### Liberias y Variables de interés y predicción"
   ]
  },
  {
   "cell_type": "code",
   "execution_count": 24,
   "metadata": {},
   "outputs": [
    {
     "name": "stderr",
     "output_type": "stream",
     "text": [
      "[nltk_data] Downloading package wordnet to\n",
      "[nltk_data]     C:\\Users\\madelgado\\AppData\\Roaming\\nltk_data...\n",
      "[nltk_data]   Package wordnet is already up-to-date!\n"
     ]
    },
    {
     "data": {
      "text/plain": [
       "True"
      ]
     },
     "execution_count": 24,
     "metadata": {},
     "output_type": "execute_result"
    }
   ],
   "source": [
    "from sklearn.model_selection import train_test_split, cross_val_score\n",
    "from sklearn.feature_extraction.text import CountVectorizer, TfidfVectorizer\n",
    "from sklearn.ensemble import RandomForestClassifier\n",
    "from nltk.stem.snowball import SnowballStemmer\n",
    "from nltk.stem import WordNetLemmatizer\n",
    "from sklearn.metrics import accuracy_score\n",
    "from sklearn.model_selection import cross_val_score\n",
    "from sklearn.model_selection import GridSearchCV\n",
    "from nltk.tokenize import word_tokenize\n",
    "import nltk\n",
    "nltk.download('wordnet')  "
   ]
  },
  {
   "cell_type": "code",
   "execution_count": 10,
   "metadata": {},
   "outputs": [],
   "source": [
    "# Separación de variables predictoras (X) y de variable de interés (y)\n",
    "X = tweets['text']\n",
    "y = tweets['airline_sentiment'].map({'negative':-1,'neutral':0,'positive':1})"
   ]
  },
  {
   "cell_type": "code",
   "execution_count": 11,
   "metadata": {},
   "outputs": [],
   "source": [
    "# Separación de datos en set de entrenamiento y test\n",
    "X_train, X_test, y_train, y_test = train_test_split(X, y, test_size=0.33, random_state=42)"
   ]
  },
  {
   "cell_type": "markdown",
   "metadata": {},
   "source": [
    "### Punto 1 - Uso de CountVectorizer\n",
    "\n",
    "En la celda 1 creen un modelo de random forest con la libreria sklearn que prediga el sentimiento de los tweets usando los set de entrenamiento y test definidos anteriormente. Usen la función **CountVectorizer** y presenten el desempeño del modelo con la métrica del acurracy.\n",
    "\n",
    "Recuerden que el preprocesamiento que se haga sobre los datos de entrenamiento  (*.fit_transform()*) deben ser aplicado al set de test (*.transform()*)."
   ]
  },
  {
   "cell_type": "code",
   "execution_count": null,
   "metadata": {},
   "outputs": [
    {
     "name": "stdout",
     "output_type": "stream",
     "text": [
      "Accuracy Random Forest: 0.7469\n",
      "Accuracy en set de prueba: 0.7711\n"
     ]
    }
   ],
   "source": [
    "# Celda 1\n",
    "\n",
    "#crear vetorizer y ajustar train y prueba\n",
    "vectorizer = CountVectorizer()\n",
    "X_train_vect = vectorizer.fit_transform(X_train)\n",
    "X_test_vect = vectorizer.transform(X_test)\n",
    "\n",
    "# Definimos ajustamos y predecimos con modelo de Random Forest\n",
    "modelo_rf = RandomForestClassifier(random_state=42)\n",
    "modelo_rf.fit(X_train_vect, y_train) # ajuste \n",
    "y_pred_rf = modelo_rf.predict(X_test_vect) # preducciónes\n",
    "\n",
    "# Calcular el accuracy para el modelo general y para el set de prueba\n",
    "scores_cv = cross_val_score(modelo_rf, X_train_vect, y_train, cv=5, scoring='accuracy')\n",
    "accuracy_rf = scores_cv.mean()\n",
    "print(f\"Accuracy RF: {accuracy_rf:.4f}\")\n",
    "accuracy_test = accuracy_score(y_test, y_pred_rf)\n",
    "print(f\"Accuracy RF en set de prueba: {accuracy_test:.4f}\")\n",
    "\n"
   ]
  },
  {
   "cell_type": "markdown",
   "metadata": {},
   "source": [
    "### Punto 2 - Eliminación de Stopwords\n",
    "\n",
    "En la celda 2 creen un modelo de random forest con la libreria sklearn que prediga el sentimiento de los tweets usando los set de entrenamiento y test definidos anteriormente. Usen la función CountVectorizer, **eliminen stopwords** y presenten el desempeño del modelo con la métrica del acurracy.\n",
    "\n",
    "Recuerden que el preprocesamiento que se haga sobre los datos de entrenamiento  (*.fit_transform()*) deben ser aplicado al set de test (*.transform()*)."
   ]
  },
  {
   "cell_type": "code",
   "execution_count": 22,
   "metadata": {},
   "outputs": [
    {
     "name": "stdout",
     "output_type": "stream",
     "text": [
      "Accuracy Random Forest con eliminación de Stopwords (Cross-Validation): 0.7393\n",
      "Accuracy en set de prueba con eliminación de Stopwords: 0.7618\n"
     ]
    }
   ],
   "source": [
    "# Celda 2\n",
    "\n",
    "# Crear vectorizer eliminando stopwords\n",
    "vectorizer_sw = CountVectorizer(stop_words='english')\n",
    "X_train_vect_sw = vectorizer_sw.fit_transform(X_train)\n",
    "X_test_vect_sw = vectorizer_sw.transform(X_test)\n",
    "\n",
    "# Definimos, ajustamos y predecimos con modelo de Random Forest\n",
    "modelo_rf_sw = RandomForestClassifier(random_state=42)\n",
    "modelo_rf_sw.fit(X_train_vect_sw, y_train)  # ajuste \n",
    "y_pred_rf_sw = modelo_rf_sw.predict(X_test_vect_sw)  # predicciones\n",
    "\n",
    "# Calcular el accuracy para el modelo general y para el set de prueba\n",
    "scores_cv_sw = cross_val_score(modelo_rf_sw, X_train_vect_sw, y_train, cv=5, scoring='accuracy')\n",
    "accuracy_rf_sw = scores_cv_sw.mean()\n",
    "print(f\"Accuracy RF con eliminación de Stopwords (Cross-Validation): {accuracy_rf_sw:.4f}\")\n",
    "\n",
    "accuracy_test_sw = accuracy_score(y_test, y_pred_rf_sw)\n",
    "print(f\"Accuracy RF en set de prueba con eliminación de Stopwords: {accuracy_test_sw:.4f}\")\n"
   ]
  },
  {
   "cell_type": "markdown",
   "metadata": {},
   "source": [
    "### Punto 3 - Lematización con verbos\n",
    "\n",
    "En la celda 3 creen un modelo de random forest con la libreria sklearn que prediga el sentimiento de los tweets usando los set de entrenamiento y test definidos anteriormente. Usen la función CountVectorizer, **lematizen el texto con verbos** y presenten el desempeño del modelo con la métrica del acurracy.\n",
    "\n",
    "Recuerden que el preprocesamiento que se haga sobre los datos de entrenamiento  (*.fit_transform()*) deben ser aplicado al set de test (*.transform()*)."
   ]
  },
  {
   "cell_type": "code",
   "execution_count": null,
   "metadata": {},
   "outputs": [
    {
     "name": "stdout",
     "output_type": "stream",
     "text": [
      "Accuracy Random Forest con lematización (Cross-Validation): 0.7350\n",
      "Accuracy en set de prueba con lematización: 0.7612\n"
     ]
    }
   ],
   "source": [
    "# Celda 3\n",
    "\n",
    "wordnet_lemmatizer = WordNetLemmatizer()\n",
    "\n",
    "# Definición de la función de lematización para verbos\n",
    "def split_into_lemmas_verbs(text):\n",
    "    text = text.lower()\n",
    "    words = text.split()\n",
    "    return [wordnet_lemmatizer.lemmatize(word, pos='v') for word in words]\n",
    "\n",
    "# CountVectorizer con textos lemantizados por verbo\n",
    "vectorizer_lemma = CountVectorizer(analyzer=split_into_lemmas_verbs)\n",
    "\n",
    "# Ajustar train y transformar test\n",
    "X_train_vect_lemma = vectorizer_lemma.fit_transform(X_train)\n",
    "X_test_vect_lemma = vectorizer_lemma.transform(X_test)\n",
    "\n",
    "# Definir, ajustar y predecir con modelo de Random Forest\n",
    "modelo_rf_lemma = RandomForestClassifier(random_state=42)\n",
    "modelo_rf_lemma.fit(X_train_vect_lemma, y_train)  # ajuste \n",
    "y_pred_rf_lemma = modelo_rf_lemma.predict(X_test_vect_lemma)  # predicciones\n",
    "\n",
    "# Calcular el accuracy para el modelo general y para el set de prueba\n",
    "scores_cv_lemma = cross_val_score(modelo_rf_lemma, X_train_vect_lemma, y_train, cv=5, scoring='accuracy')\n",
    "accuracy_rf_lemma = scores_cv_lemma.mean()\n",
    "print(f\"Accuracy Random Forest con lematización (Cross-Validation): {accuracy_rf_lemma:.4f}\")\n",
    "accuracy_test_lemma = accuracy_score(y_test, y_pred_rf_lemma)\n",
    "print(f\"Accuracy en set de prueba con lematización: {accuracy_test_lemma:.4f}\")\n"
   ]
  },
  {
   "cell_type": "markdown",
   "metadata": {},
   "source": [
    "### Punto 4 - Multiples técnicas\n",
    "\n",
    "En la celda 4 creen un modelo de random forest con la libreria sklearn que prediga el sentimiento de los tweets usando los set de entrenamiento y test definidos anteriormente. Usen la función **CountVectorizer, eliminen stopwords, lematizen el texto con verbos** y presenten el desempeño del modelo con la métrica del acurracy.\n",
    "\n",
    "Recuerden que el preprocesamiento que se haga sobre los datos de entrenamiento  (*.fit_transform()*) deben ser aplicado al set de test (*.transform()*)."
   ]
  },
  {
   "cell_type": "code",
   "execution_count": 26,
   "metadata": {},
   "outputs": [
    {
     "name": "stdout",
     "output_type": "stream",
     "text": [
      "Accuracy RF con Stopwords eliminadas + Lematización (Cross-Validation): 0.7350\n",
      "Accuracy RF en set de prueba con Stopwords eliminadas + Lematización: 0.7612\n"
     ]
    }
   ],
   "source": [
    "# Celda 4\n",
    "\n",
    "# Definición de la función de lematización para verbos\n",
    "def split_into_lemmas_verbs(text):\n",
    "    text = text.lower()\n",
    "    words = text.split()    \n",
    "    return [wordnet_lemmatizer.lemmatize(word, pos='v') for word in words]\n",
    "\n",
    "# Crear CountVectorizer eliminando stopwords y usando lematización\n",
    "vectorizer_sw_lemma = CountVectorizer(\n",
    "    stop_words='english',\n",
    "    analyzer=split_into_lemmas_verbs\n",
    ")\n",
    "\n",
    "# Ajustar train y transformar test\n",
    "X_train_vect_sw_lemma = vectorizer_sw_lemma.fit_transform(X_train)\n",
    "X_test_vect_sw_lemma = vectorizer_sw_lemma.transform(X_test)\n",
    "\n",
    "# Definir, ajustar y predecir con modelo de Random Forest\n",
    "modelo_rf_sw_lemma = RandomForestClassifier(random_state=42)\n",
    "modelo_rf_sw_lemma.fit(X_train_vect_sw_lemma, y_train)  # ajuste \n",
    "y_pred_rf_sw_lemma = modelo_rf_sw_lemma.predict(X_test_vect_sw_lemma)  # predicciones\n",
    "\n",
    "# Calcular el accuracy para el modelo general y para el set de prueba\n",
    "scores_cv_sw_lemma = cross_val_score(modelo_rf_sw_lemma, X_train_vect_sw_lemma, y_train, cv=5, scoring='accuracy')\n",
    "accuracy_rf_sw_lemma = scores_cv_sw_lemma.mean()\n",
    "print(f\"Accuracy RF con Stopwords eliminadas + Lematización (Cross-Validation): {accuracy_rf_sw_lemma:.4f}\")\n",
    "accuracy_test_sw_lemma = accuracy_score(y_test, y_pred_rf_sw_lemma)\n",
    "print(f\"Accuracy RF en set de prueba con Stopwords eliminadas + Lematización: {accuracy_test_sw_lemma:.4f}\")\n"
   ]
  },
  {
   "cell_type": "markdown",
   "metadata": {},
   "source": [
    "### Punto 5 - Comparación y análisis de resultados\n",
    "\n",
    "En la celda 5 comparen los resultados obtenidos de los diferentes modelos (random forest) y comenten las ventajas del mejor modelo y las desventajas del modelo con el menor desempeño."
   ]
  },
  {
   "cell_type": "code",
   "execution_count": null,
   "metadata": {},
   "outputs": [
    {
     "name": "stdout",
     "output_type": "stream",
     "text": [
      "                                       Modelo  Accuracy CV (Entrenamiento)  \\\n",
      "0                        Random Forest básico                     0.746940   \n",
      "1                 RF con Stopwords eliminadas                     0.739295   \n",
      "2               RF con Lematización de verbos                     0.735011   \n",
      "3  RF con Stopwords eliminadas + Lematización                     0.735011   \n",
      "\n",
      "   Accuracy Test (Prueba)  \n",
      "0                0.771109  \n",
      "1                0.761796  \n",
      "2                0.761175  \n",
      "3                0.761175  \n"
     ]
    }
   ],
   "source": [
    "# Celda 5\n",
    "\n",
    "resultados = pd.DataFrame({\n",
    "    'Modelo': [\n",
    "        'Random Forest básico',\n",
    "        'RF con Stopwords eliminadas',\n",
    "        'RF con Lematización de verbos',\n",
    "        'RF con Stopwords eliminadas + Lematización'\n",
    "    ],\n",
    "    'Accuracy CV (Entrenamiento)': [\n",
    "        accuracy_rf,\n",
    "        accuracy_rf_sw,\n",
    "        accuracy_rf_lemma,\n",
    "        accuracy_rf_sw_lemma\n",
    "    ],\n",
    "    'Accuracy Test (Prueba)': [\n",
    "        accuracy_test,\n",
    "        accuracy_test_sw,\n",
    "        accuracy_test_lemma,\n",
    "        accuracy_test_sw_lemma\n",
    "    ]\n",
    "})\n",
    "\n",
    "# Mostrar resultados\n",
    "print(resultados)\n",
    "\n"
   ]
  },
  {
   "cell_type": "markdown",
   "metadata": {},
   "source": [
    "Al comparar los resultados obtenidos de los diferentes modelos de Random Forest, se observa que el modelo básico (sin eliminación de stopwords ni lematización) alcanzó el mayor desempeño en el conjunto de prueba, con un accuracy de aproximadamente 77%. Los modelos que aplicaron técnicas de preprocesamiento, como eliminación de stopwords o lematización de verbos, presentaron un desempeño levemente inferior, con accuracies cercanos al 76%.\n",
    "\n",
    "Esperabamos que con la lematizacón y eliminación de stopword el rendimiento mejorara, sin embargo no fué así, esto puede estar relacionado con que el Random Forest básico tiene la ventaja de conservar toda la información textual disponible, permitiendo al modelo capturar patrones relevantes directamente a partir de las palabras presentes. \n",
    "\n",
    "Por otro lado, el modelo con menor desempeño (Random Forest con lematización de verbos y eliminación de stopwords) muestra como ventaja una reducción en la complejidad del espacio vectorial, ya que elimina palabras irrelevantes y normaliza variaciones verbales. No obstante, la simplificación puede haber llevado a una pérdida de matices importantes en los textos, lo cual afectó ligeramente su capacidad predictiva.\n",
    "\n",
    "En general, los resultados indican que en este dataset específico, la robustez del modelo Random Forest permite un buen desempeño incluso sin un preprocesamiento intensivo."
   ]
  }
 ],
 "metadata": {
  "kernelspec": {
   "display_name": "base",
   "language": "python",
   "name": "python3"
  },
  "language_info": {
   "codemirror_mode": {
    "name": "ipython",
    "version": 3
   },
   "file_extension": ".py",
   "mimetype": "text/x-python",
   "name": "python",
   "nbconvert_exporter": "python",
   "pygments_lexer": "ipython3",
   "version": "3.11.7"
  }
 },
 "nbformat": 4,
 "nbformat_minor": 2
}
